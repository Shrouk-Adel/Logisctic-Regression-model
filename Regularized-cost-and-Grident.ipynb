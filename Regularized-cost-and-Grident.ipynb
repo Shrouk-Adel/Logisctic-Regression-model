{
 "cells": [
  {
   "cell_type": "code",
   "execution_count": 1,
   "id": "77c3c9da",
   "metadata": {},
   "outputs": [],
   "source": [
    "import numpy as np\n",
    "import matplotlib.pyplot as plt"
   ]
  },
  {
   "cell_type": "markdown",
   "id": "8290d5d0",
   "metadata": {},
   "source": [
    "## Cost functions with regularization\n",
    "### Cost function for regularized linear regression\n",
    "\n",
    "The equation for the cost function regularized linear regression is:\n",
    "$$J(\\mathbf{w},b) = \\frac{1}{2m} \\sum\\limits_{i = 0}^{m-1} (f_{\\mathbf{w},b}(\\mathbf{x}^{(i)}) - y^{(i)})^2  + \\frac{\\lambda}{2m}  \\sum_{j=0}^{n-1} w_j^2 \\tag{1}$$ \n",
    "where:\n",
    "$$ f_{\\mathbf{w},b}(\\mathbf{x}^{(i)}) = \\mathbf{w} \\cdot \\mathbf{x}^{(i)} + b  \\tag{2} $$ \n",
    "\n",
    "\n",
    "Compare this to the cost function without regularization (which you implemented in  a previous lab), which is of the form:\n",
    "\n",
    "$$J(\\mathbf{w},b) = \\frac{1}{2m} \\sum\\limits_{i = 0}^{m-1} (f_{\\mathbf{w},b}(\\mathbf{x}^{(i)}) - y^{(i)})^2 $$ \n",
    "\n",
    "The difference is the regularization term,  <span style=\"color:blue\">\n",
    "    $\\frac{\\lambda}{2m}  \\sum_{j=0}^{n-1} w_j^2$ </span> \n",
    "    \n",
    "Including this term encourages gradient descent to minimize the size of the parameters. Note, in this example, the parameter $b$ is not regularized. This is standard practice.\n",
    "\n",
    "Below is an implementation of equations (1) and (2). Note that this uses a *standard pattern for this course*,   a `for loop` over all `m` examples."
   ]
  },
  {
   "cell_type": "code",
   "execution_count": 2,
   "id": "a6228201",
   "metadata": {},
   "outputs": [],
   "source": [
    "def comput_cost_function(x,y,w,b,lambda_):\n",
    "    \n",
    "    m=len(x)\n",
    "    n=len(w)\n",
    "    f_wb=np.dot(x,w)+b\n",
    "    cost_sum=0\n",
    "    \n",
    "    for i in range(m):\n",
    "        cost_sum +=(f_wb[i]-y[i])**2\n",
    "        \n",
    "    cost=1/(2*m) *cost_sum\n",
    "    \n",
    "    reg_cost=0\n",
    "    \n",
    "    for i in range (n):\n",
    "        reg_cost+=(w[i]**2)\n",
    "    \n",
    "    reg_cost=(lambda_ /(2*m)) * reg_cost\n",
    "    \n",
    "    total_cost=cost + reg_cost\n",
    "    return total_cost\n",
    "    \n",
    "    \n",
    "    "
   ]
  },
  {
   "cell_type": "code",
   "execution_count": 11,
   "id": "e21e9061",
   "metadata": {},
   "outputs": [
    {
     "name": "stdout",
     "output_type": "stream",
     "text": [
      "Regularized cost: 0.2158519823228361\n"
     ]
    }
   ],
   "source": [
    "X_tmp = np.random.rand(5,6)\n",
    "y_tmp = np.array([0,1,0,1,0])\n",
    "w_tmp = np.random.rand(X_tmp.shape[1]).reshape(-1,)-0.5\n",
    "b_tmp = 0.5\n",
    "lambda_tmp = 0.7\n",
    "cost_tmp = comput_cost_function(X_tmp, y_tmp, w_tmp, b_tmp, lambda_tmp)\n",
    "\n",
    "print(\"Regularized cost:\", cost_tmp)"
   ]
  },
  {
   "cell_type": "markdown",
   "id": "24b02126",
   "metadata": {},
   "source": [
    "### Cost function for regularized logistic regression\n",
    "For regularized **logistic** regression, the cost function is of the form\n",
    "$$J(\\mathbf{w},b) = \\frac{1}{m}  \\sum_{i=0}^{m-1} \\left[ -y^{(i)} \\log\\left(f_{\\mathbf{w},b}\\left( \\mathbf{x}^{(i)} \\right) \\right) - \\left( 1 - y^{(i)}\\right) \\log \\left( 1 - f_{\\mathbf{w},b}\\left( \\mathbf{x}^{(i)} \\right) \\right) \\right] + \\frac{\\lambda}{2m}  \\sum_{j=0}^{n-1} w_j^2 \\tag{3}$$\n",
    "where:\n",
    "$$ f_{\\mathbf{w},b}(\\mathbf{x}^{(i)}) = sigmoid(\\mathbf{w} \\cdot \\mathbf{x}^{(i)} + b)  \\tag{4} $$ \n",
    "\n",
    "Compare this to the cost function without regularization (which you implemented in  a previous lab):\n",
    "\n",
    "$$ J(\\mathbf{w},b) = \\frac{1}{m}\\sum_{i=0}^{m-1} \\left[ (-y^{(i)} \\log\\left(f_{\\mathbf{w},b}\\left( \\mathbf{x}^{(i)} \\right) \\right) - \\left( 1 - y^{(i)}\\right) \\log \\left( 1 - f_{\\mathbf{w},b}\\left( \\mathbf{x}^{(i)} \\right) \\right)\\right] $$\n",
    "\n",
    "As was the case in linear regression above, the difference is the regularization term, which is    <span style=\"color:blue\">\n",
    "    $\\frac{\\lambda}{2m}  \\sum_{j=0}^{n-1} w_j^2$ </span> \n",
    "\n",
    "Including this term encourages gradient descent to minimize the size of the parameters. Note, in this example, the parameter $b$ is not regularized. This is standard practice. "
   ]
  },
  {
   "cell_type": "code",
   "execution_count": 13,
   "id": "ce1e7e7f",
   "metadata": {},
   "outputs": [],
   "source": [
    "def sigmoid (z):\n",
    "    # g= sigmoid(z)\n",
    "    g=1/(1+np.exp(-z))\n",
    "    return g"
   ]
  },
  {
   "cell_type": "code",
   "execution_count": 15,
   "id": "acb274fa",
   "metadata": {},
   "outputs": [],
   "source": [
    "def compute_cost_logistic_reg(x,y,w,b,lambda_):\n",
    "    m = x.shape[0]\n",
    "    n=len(w)\n",
    "    cost=0.0\n",
    "    for i in range(m):\n",
    "        z_i=np.dot(x[i],w)+b\n",
    "        f_wb_i=sigmoid(z_i)\n",
    "        cost  = cost + ( - y[i]*np.log(f_wb_i) - (1-y[i]) * np.log(1-f_wb_i))\n",
    "        \n",
    "    cost = cost / m\n",
    "    \n",
    "    reg_cost=0\n",
    "    \n",
    "    for i in range (n):\n",
    "        reg_cost+=(w[i]**2)\n",
    "    \n",
    "    reg_cost=(lambda_ /(2*m)) * reg_cost\n",
    "    \n",
    "    total_cost=cost + reg_cost\n",
    "      \n",
    "    return total_cost\n",
    "        "
   ]
  },
  {
   "cell_type": "code",
   "execution_count": 18,
   "id": "72ef8d29",
   "metadata": {},
   "outputs": [
    {
     "name": "stdout",
     "output_type": "stream",
     "text": [
      "Regularized cost: 0.8200211756418744\n"
     ]
    }
   ],
   "source": [
    "X_tmp = np.random.rand(5,6)\n",
    "y_tmp = np.array([0,1,0,1,0])\n",
    "w_tmp = np.random.rand(X_tmp.shape[1]).reshape(-1,)-0.5\n",
    "b_tmp = 0.5\n",
    "lambda_tmp = 0.7\n",
    "cost_tmp = compute_cost_logistic_reg(X_tmp, y_tmp, w_tmp, b_tmp, lambda_tmp)\n",
    "\n",
    "print(\"Regularized cost:\", cost_tmp)"
   ]
  },
  {
   "cell_type": "markdown",
   "id": "bcec083d",
   "metadata": {},
   "source": [
    "## Gradient descent with regularization\n",
    "The basic algorithm for running gradient descent does not change with regularization, it is:\n",
    "$$\\begin{align*}\n",
    "&\\text{repeat until convergence:} \\; \\lbrace \\\\\n",
    "&  \\; \\; \\;w_j = w_j -  \\alpha \\frac{\\partial J(\\mathbf{w},b)}{\\partial w_j} \\tag{1}  \\; & \\text{for j := 0..n-1} \\\\ \n",
    "&  \\; \\; \\;  \\; \\;b = b -  \\alpha \\frac{\\partial J(\\mathbf{w},b)}{\\partial b} \\\\\n",
    "&\\rbrace\n",
    "\\end{align*}$$\n",
    "Where each iteration performs simultaneous updates on $w_j$ for all $j$.\n",
    "\n",
    "What changes with regularization is computing the gradients."
   ]
  },
  {
   "cell_type": "markdown",
   "id": "fc58532b",
   "metadata": {},
   "source": [
    "### Computing the Gradient with regularization (both linear/logistic)\n",
    "The gradient calculation for both linear and logistic regression are nearly identical, differing only in computation of $f_{\\mathbf{w}b}$.\n",
    "$$\\begin{align*}\n",
    "\\frac{\\partial J(\\mathbf{w},b)}{\\partial w_j}  &= \\frac{1}{m} \\sum\\limits_{i = 0}^{m-1} (f_{\\mathbf{w},b}(\\mathbf{x}^{(i)}) - y^{(i)})x_{j}^{(i)}  +  \\frac{\\lambda}{m} w_j \\tag{2} \\\\\n",
    "\\frac{\\partial J(\\mathbf{w},b)}{\\partial b}  &= \\frac{1}{m} \\sum\\limits_{i = 0}^{m-1} (f_{\\mathbf{w},b}(\\mathbf{x}^{(i)}) - y^{(i)}) \\tag{3} \n",
    "\\end{align*}$$\n",
    "\n",
    "* m is the number of training examples in the data set      \n",
    "* $f_{\\mathbf{w},b}(x^{(i)})$ is the model's prediction, while $y^{(i)}$ is the target\n",
    "\n",
    "      \n",
    "* For a  <span style=\"color:blue\"> **linear** </span> regression model  \n",
    "    $f_{\\mathbf{w},b}(x) = \\mathbf{w} \\cdot \\mathbf{x} + b$  \n",
    "* For a <span style=\"color:blue\"> **logistic** </span> regression model  \n",
    "    $z = \\mathbf{w} \\cdot \\mathbf{x} + b$  \n",
    "    $f_{\\mathbf{w},b}(x) = g(z)$  \n",
    "    where $g(z)$ is the sigmoid function:  \n",
    "    $g(z) = \\frac{1}{1+e^{-z}}$   \n",
    "    \n",
    "The term which adds regularization is  the <span style=\"color:blue\">$\\frac{\\lambda}{m} w_j $</span>."
   ]
  },
  {
   "cell_type": "code",
   "execution_count": 21,
   "id": "658d2a34",
   "metadata": {},
   "outputs": [],
   "source": [
    "def model_with_vectorization(x,w_init,b_init):\n",
    "    n=x.shape[0]\n",
    "    \n",
    "    f_wb=np.dot(x,w_init) + b_init\n",
    "    return f_wb\n",
    "    "
   ]
  },
  {
   "cell_type": "code",
   "execution_count": 26,
   "id": "21e82f57",
   "metadata": {},
   "outputs": [],
   "source": [
    "def compute_gradient_linear_reg(x,y,w,b,lambda_):\n",
    "        f_wb = model_with_vectorization(x,w,b)\n",
    "\n",
    "        dj_dw=0\n",
    "        dj_db=0\n",
    "        m=x.shape[0]\n",
    "        n=len(w)\n",
    "        \n",
    "        for i in range(m):\n",
    "            dj_dw_i = (f_wb[i]- y[i]) *x[i]\n",
    "            dj_dw = dj_dw + dj_dw_i\n",
    "            dj_db_i  = (f_wb[i] - y[i])\n",
    "            dj_db = dj_db + dj_db_i\n",
    "\n",
    "\n",
    "        dj_dw = dj_dw / m\n",
    "        dj_db = dj_db / m\n",
    "        \n",
    "        for j in range(n):\n",
    "            dj_dw[j]=dj_dw[j]+ (lambda_ / m)* w[j]\n",
    "        \n",
    "        return dj_dw,dj_db\n",
    "    "
   ]
  },
  {
   "cell_type": "code",
   "execution_count": 29,
   "id": "eb2df2d7",
   "metadata": {},
   "outputs": [
    {
     "name": "stdout",
     "output_type": "stream",
     "text": [
      "dj_db: 0.8958897321885793\n",
      "dj_dw: [0.52951991 0.67782081 0.4320933 ]\n"
     ]
    }
   ],
   "source": [
    "X_tmp = np.random.rand(5,3)\n",
    "y_tmp = np.array([0,1,0,1,0])\n",
    "w_tmp = np.random.rand(X_tmp.shape[1])\n",
    "b_tmp = 0.5\n",
    "lambda_tmp = 0.7\n",
    "dj_dw_tmp,dj_db_tmp =  compute_gradient_linear_reg(X_tmp, y_tmp, w_tmp, b_tmp, lambda_tmp)\n",
    "\n",
    "print(f\"dj_db: {dj_db_tmp}\" )\n",
    "print(f\"dj_dw: {dj_dw_tmp}\")"
   ]
  },
  {
   "cell_type": "code",
   "execution_count": 30,
   "id": "32cc5115",
   "metadata": {},
   "outputs": [],
   "source": [
    "def compute_gradient_logistic_reg(x,y,w,b,lambda_):\n",
    "        f_wb = sigmoid(np.dot(x,w)+b)\n",
    "\n",
    "        dj_dw=0\n",
    "        dj_db=0\n",
    "        m=x.shape[0]\n",
    "        n=len(w)\n",
    "        \n",
    "        for i in range(m):\n",
    "            dj_dw_i = (f_wb[i]- y[i]) *x[i]\n",
    "            dj_dw = dj_dw + dj_dw_i\n",
    "            dj_db_i  = (f_wb[i] - y[i])\n",
    "            dj_db = dj_db + dj_db_i\n",
    "\n",
    "\n",
    "        dj_dw = dj_dw / m\n",
    "        dj_db = dj_db / m\n",
    "        \n",
    "        for j in range(n):\n",
    "            dj_dw[j]=dj_dw[j]+ (lambda_ / m)* w[j]\n",
    "        \n",
    "        \n",
    "        return dj_dw,dj_db\n",
    "    \n",
    "\n",
    "\n",
    " "
   ]
  },
  {
   "cell_type": "code",
   "execution_count": 33,
   "id": "b57202bf",
   "metadata": {},
   "outputs": [
    {
     "name": "stdout",
     "output_type": "stream",
     "text": [
      "dj_db: 0.4213877251839279\n",
      "dj_dw: [0.28426891 0.35888777 0.34538684]\n"
     ]
    }
   ],
   "source": [
    "X_tmp = np.random.rand(5,3)\n",
    "y_tmp = np.array([0,1,0,1,0])\n",
    "w_tmp = np.random.rand(X_tmp.shape[1])\n",
    "b_tmp = 0.5\n",
    "lambda_tmp = 0.7\n",
    "dj_dw_tmp, dj_db_tmp =  compute_gradient_logistic_reg(X_tmp, y_tmp, w_tmp, b_tmp, lambda_tmp)\n",
    "\n",
    "print(f\"dj_db: {dj_db_tmp}\" )\n",
    "print(f\"dj_dw: {dj_dw_tmp}\" )"
   ]
  },
  {
   "cell_type": "code",
   "execution_count": null,
   "id": "2e4853e9",
   "metadata": {},
   "outputs": [],
   "source": []
  }
 ],
 "metadata": {
  "kernelspec": {
   "display_name": "Python 3 (ipykernel)",
   "language": "python",
   "name": "python3"
  },
  "language_info": {
   "codemirror_mode": {
    "name": "ipython",
    "version": 3
   },
   "file_extension": ".py",
   "mimetype": "text/x-python",
   "name": "python",
   "nbconvert_exporter": "python",
   "pygments_lexer": "ipython3",
   "version": "3.9.13"
  }
 },
 "nbformat": 4,
 "nbformat_minor": 5
}
